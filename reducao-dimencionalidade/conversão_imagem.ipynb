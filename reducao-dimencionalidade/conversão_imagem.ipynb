{
 "cells": [
  {
   "cell_type": "code",
   "execution_count": 1,
   "id": "b46bffe9-cd35-4e0e-9986-213c0d5ead76",
   "metadata": {},
   "outputs": [],
   "source": [
    "from PIL import Image\n",
    "from numpy import asarray\n",
    "import math"
   ]
  },
  {
   "cell_type": "code",
   "execution_count": 2,
   "id": "6d67eb5d-7604-4dc5-9d90-219a37051dcd",
   "metadata": {},
   "outputs": [],
   "source": [
    "img = Image.open('aguia-free-pick.png')"
   ]
  },
  {
   "cell_type": "code",
   "execution_count": 3,
   "id": "8a0bef4f-259a-4fc2-a599-a62df4b0736b",
   "metadata": {},
   "outputs": [],
   "source": [
    "numpydata = asarray(img)"
   ]
  },
  {
   "cell_type": "code",
   "execution_count": 4,
   "id": "7faf8fe8-fbdf-4864-84f8-3007e177dd15",
   "metadata": {},
   "outputs": [
    {
     "name": "stdout",
     "output_type": "stream",
     "text": [
      "(990, 738, 4)\n"
     ]
    }
   ],
   "source": [
    "print(numpydata.shape)"
   ]
  },
  {
   "cell_type": "code",
   "execution_count": 5,
   "id": "1433171f-1d6e-4fb0-bb0e-3c31574f3f85",
   "metadata": {},
   "outputs": [],
   "source": [
    "imagem = img.convert(\"RGB\")"
   ]
  },
  {
   "cell_type": "code",
   "execution_count": 6,
   "id": "2a52e0ad-182b-46ae-8d36-5e25c5d36ad3",
   "metadata": {},
   "outputs": [
    {
     "data": {
      "text/plain": [
       "(738, 990)"
      ]
     },
     "execution_count": 6,
     "metadata": {},
     "output_type": "execute_result"
    }
   ],
   "source": [
    "imagem.size"
   ]
  },
  {
   "cell_type": "code",
   "execution_count": 7,
   "id": "2c9d0a4e-e7de-4819-800a-d57d9a640935",
   "metadata": {},
   "outputs": [],
   "source": [
    "def tom_de_cinza_por_media(img):\n",
    "    largura, altura = imagem.size\n",
    "    for y in range(altura):\n",
    "        for x in range(largura):\n",
    "            r, g, b = img.getpixel((x, y))\n",
    "            l = [r,g,b]\n",
    "            media = round(sum(l)/len(l))\n",
    "            t = ((media,)*3)\n",
    "            img.putpixel((x,y),t)\n",
    "    return img"
   ]
  },
  {
   "cell_type": "code",
   "execution_count": 8,
   "id": "e026195f-3a3a-4282-aff8-de5cec066566",
   "metadata": {},
   "outputs": [],
   "source": [
    "def imagem_binaria(img,limite):\n",
    "    largura, altura = imagem.size\n",
    "    for y in range(altura):\n",
    "        for x in range(largura):\n",
    "            r, g, b = img.getpixel((x, y))\n",
    "            l = [r,g,b]\n",
    "            rgb = [ 250 if i >= limite else 0 for i in l]\n",
    "            img.putpixel((x,y),(max(rgb),)*3)\n",
    "    return img"
   ]
  },
  {
   "cell_type": "code",
   "execution_count": 9,
   "id": "4fbcea12-c0ae-4665-9eb3-224d0628f879",
   "metadata": {},
   "outputs": [],
   "source": [
    "img_cinza = tom_de_cinza_por_media(imagem)"
   ]
  },
  {
   "cell_type": "code",
   "execution_count": 10,
   "id": "d6bd49b0-d8f6-4d83-b830-dbedba4734dc",
   "metadata": {},
   "outputs": [],
   "source": [
    "img_cinza.save('tom_cinza.png')"
   ]
  },
  {
   "cell_type": "code",
   "execution_count": 12,
   "id": "cd64f2bc-ea7f-451b-b232-85880733a3ef",
   "metadata": {},
   "outputs": [],
   "source": [
    "img_b = imagem_binaria(imagem,110)"
   ]
  },
  {
   "cell_type": "code",
   "execution_count": 13,
   "id": "afc5b708-ff41-4369-bab7-bc82d8c47147",
   "metadata": {},
   "outputs": [],
   "source": [
    "img_b.save('imagem_binaria.png')"
   ]
  },
  {
   "cell_type": "code",
   "execution_count": null,
   "id": "fbd8a3bb-929f-403c-b6ca-7e2b2a1d0edd",
   "metadata": {},
   "outputs": [],
   "source": []
  }
 ],
 "metadata": {
  "kernelspec": {
   "display_name": "Python 3 (ipykernel)",
   "language": "python",
   "name": "python3"
  },
  "language_info": {
   "codemirror_mode": {
    "name": "ipython",
    "version": 3
   },
   "file_extension": ".py",
   "mimetype": "text/x-python",
   "name": "python",
   "nbconvert_exporter": "python",
   "pygments_lexer": "ipython3",
   "version": "3.10.12"
  }
 },
 "nbformat": 4,
 "nbformat_minor": 5
}
