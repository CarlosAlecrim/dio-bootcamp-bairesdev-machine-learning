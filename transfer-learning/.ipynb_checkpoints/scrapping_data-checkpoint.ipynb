{
 "cells": [
  {
   "cell_type": "code",
   "execution_count": 1,
   "id": "bb031f44-fbe8-4786-ae9d-189ba05b0a2c",
   "metadata": {},
   "outputs": [
    {
     "name": "stdout",
     "output_type": "stream",
     "text": [
      "/components/global-nav/static/static/GettyHeaderLogo-4c344fa4f9e47c257bea.svg\n",
      "Logotipo Getty Images\n",
      "/components/global-nav/static/static/UnsplashForBrands-00c7af5aed68b4b7f3f3.svg\n",
      "Unsplash for Brands\n",
      "https://media.gettyimages.com/id/1449138519/pt/foto/eiffel-tower-in-winter-paris-france.jpg?s=612x612&w=gi&k=20&c=X2TF14rdSp6Fld1pkwVLQ2uSAgowpSKhNbKCbc9u2ZE=\n",
      "torre eiffel no inverno paris, france - torre eiffel - fotografias e filmes do acervo\n",
      "https://media.gettyimages.com/id/639337086/pt/foto/torre-eiffel-em-paris-fran%C3%A7a.jpg?s=612x612&w=gi&k=20&c=DgV_mDd7kmWreqTFU6SL_sY1PZ12kNYzQG61zgbd8S4=\n",
      "torre eiffel, em paris, frança  - torre eiffel - fotografias e filmes do acervo\n",
      "https://media.gettyimages.com/id/1492597085/pt/foto/paris-skyline-with-eiffel-tower-on-a-sunny-day-wide-angle-view-france.jpg?s=612x612&w=gi&k=20&c=ONJdekCxEIXgX6ZJOZXsoZ2yyA1LzrS5yqvMtMfXQ7M=\n",
      "paris skyline with eiffel tower on a sunny day, wide angle view, france - torre eiffel - fotografias e filmes do acervo\n",
      "https://media.gettyimages.com/id/955441104/pt/foto/eiffel-tower-and-paris-city-in-the-morning-paris-france-paris-france.jpg?s=612x612&w=gi&k=20&c=OFoBIiwB8s5vXldABG2Bvl0ACewyD0F6D1RQd8cBX3A=\n",
      "eiffel tower and paris city in the morning, paris, france paris, france - torre eiffel - fotografias e filmes do acervo\n",
      "https://media.gettyimages.com/id/184375774/pt/foto/a-torre-eiffel-em-paris-fran%C3%A7a.jpg?s=612x612&w=gi&k=20&c=VMcwSWfAG4_PpXXkQOX5QemTc3_llGeQ851F5gs6FiY=\n",
      "a torre eiffel, em paris, frança - torre eiffel - fotografias e filmes do acervo\n",
      "https://media.gettyimages.com/id/186866123/pt/foto/torre-eiffel.jpg?s=612x612&w=gi&k=20&c=DsclMO0aXdeKoELTLsfm7YihixYggLBC-lqnZRKrKYo=\n",
      "torre eiffel - torre eiffel - fotografias e filmes do acervo\n",
      "https://media.gettyimages.com/id/98038911/pt/foto/eiffel-tower.jpg?s=612x612&w=gi&k=20&c=VX5LQWqzcD92qYze_rZ3233gCaZDja5Kj87-3qMFSYw=\n",
      "eiffel tower - torre eiffel - fotografias e filmes do acervo\n",
      "https://media.gettyimages.com/id/538536839/pt/foto/eiffel-tower-at-sunset-paris.jpg?s=612x612&w=gi&k=20&c=R1Y4XaGOaYA1eoh8Y2tj3cseYp3WHqIFfvTE-aw3TZ8=\n",
      "eiffel tower at sunset, paris - torre eiffel - fotografias e filmes do acervo\n",
      "https://media.gettyimages.com/id/151935612/pt/vetorial/torre-eiffel.jpg?s=612x612&w=gi&k=20&c=95-OzLdhCSPG7I5JEw5Do1eHSow3sG1el-6DVhBrIGw=\n",
      "ilustrações, clipart, desenhos animados e ícones de torre eiffel - torre eiffel\n",
      "https://media.gettyimages.com/id/155381519/pt/foto/rom%C3%A2ntico-de-paris-com-a-torre-eiffel.jpg?s=612x612&w=gi&k=20&c=-eythQRoFAyWvKXJRecOJmgHMYIlmwLFjTXEb0wKVHc=\n",
      "romântica paris com a torre eiffel - torre eiffel - fotografias e filmes do acervo\n",
      "https://media.gettyimages.com/id/847408280/pt/foto/aerial-view-of-paris-with-eiffel-tower-during-sunset.jpg?s=612x612&w=gi&k=20&c=nCVWo_yp5jLlCYXaioU1epLwh2XkDYDBFXqDpowgOww=\n",
      "vista aérea de paris com a torre eiffel durante o pôr do sol - torre eiffel - fotografias e filmes do acervo\n",
      "https://media.gettyimages.com/id/538536853/pt/foto/esplanade-du-trocadero-paris.jpg?s=612x612&w=gi&k=20&c=L3TL-6C9JfDWWwiKIXKKObgfc8CB0h_alymTdE-oS48=\n",
      "esplanade du trocadero, paris - torre eiffel - fotografias e filmes do acervo\n",
      "https://media.gettyimages.com/id/1425549035/pt/foto/eiffel-tower.jpg?s=612x612&w=gi&k=20&c=HGRgFLJfKHtHWloJ3Ooy1rSqEsaZhheHiMyYBCFN3DM=\n",
      "eiffel tower - torre eiffel - fotografias e filmes do acervo\n",
      "https://media.gettyimages.com/id/924891460/pt/foto/eiffel-tower-in-paris-france.jpg?s=612x612&w=gi&k=20&c=KRxJt3pNybT5OwdqwDnEJu6A3s-WmyyM905oDBOwlSw=\n",
      "torre eiffel, em paris, frança - torre eiffel - fotografias e filmes do acervo\n",
      "https://media.gettyimages.com/id/486525870/pt/vetorial/distrito-de-eiffel.jpg?s=612x612&w=gi&k=20&c=siBVqeBD5bFtPdscQftM3cnYIDC5C-qKLVVOe72tliM=\n",
      "ilustrações, clipart, desenhos animados e ícones de eiffel tower - torre eiffel\n",
      "https://media.gettyimages.com/id/154295849/pt/foto/eiffel-tower.jpg?s=612x612&w=gi&k=20&c=lSS1CfoVHRi-OnaFzPjfHFUef3ZmRSylgZ9IUvMCkas=\n",
      "eiffel tower - torre eiffel - fotografias e filmes do acervo\n",
      "https://media.gettyimages.com/id/635758088/pt/foto/sunrise-at-the-eiffel-tower-in-paris-along-the-seine.jpg?s=612x612&w=gi&k=20&c=-c0gOLS5ZlmFuUkycyPYWZnBqGazScSZ40U1EYkAc5k=\n",
      "nascer do sol na torre eiffel em paris ao longo do sena - torre eiffel - fotografias e filmes do acervo\n",
      "https://media.gettyimages.com/id/1345426734/pt/foto/eiffel-tower-paris-river-seine-sunset-twilight-france.jpg?s=612x612&w=gi&k=20&c=j8sOVP1EAAtt_zmFGovN1xQjf77NFaRMaH59rbIzfOc=\n",
      "torre eiffel paris rio sena sunset crepúsculo frança - torre eiffel - fotografias e filmes do acervo\n",
      "https://media.gettyimages.com/id/638419754/pt/foto/paris-vista-da-cidade.jpg?s=612x612&w=gi&k=20&c=9yBJ6vzOt0eqBtJ2aKpdTS7IUZdipOmPYhBLmcZ_5zY=\n",
      "paisagem urbana de paris  - torre eiffel - fotografias e filmes do acervo\n",
      "https://media.gettyimages.com/id/1298383663/pt/foto/aerial-view-of-paris-streets-and-eiffel-tower-at-sunset-france.jpg?s=612x612&w=gi&k=20&c=Kl-8rjUlfL8iMk_VKqTXOa8s72FQYmC6CXSvKcZPXGo=\n",
      "aerial view of paris streets and eiffel tower at sunset, france - torre eiffel - fotografias e filmes do acervo\n",
      "https://media.gettyimages.com/id/1464521101/pt/foto/eiffel-tower-and-trocadero-square-at-sunrise-paris-france.jpg?s=612x612&w=gi&k=20&c=BUasTg_CHhBm3DB0untw0_jNp8xbmSxvG2EbFGpJaEA=\n",
      "eiffel tower and trocadero square at sunrise, paris, france - torre eiffel - fotografias e filmes do acervo\n",
      "https://media.gettyimages.com/id/924894324/pt/foto/eiffel-tower-in-paris-france.jpg?s=612x612&w=gi&k=20&c=ju3zEvDTYpZKk_3F09XB2uqwdPD3nkpeRX5Arx5h5Mk=\n",
      "torre eiffel, em paris, frança - torre eiffel - fotografias e filmes do acervo\n",
      "https://media.gettyimages.com/id/682332882/pt/foto/the-eiffel-tower-and-the-town-at-the-sunset-from-the-trocad%C3%A9ro.jpg?s=612x612&w=gi&k=20&c=0Po3DLm5O1EttuuucfeYKggKDWDtTUbjZfrBnEMBOZA=\n",
      "the eiffel tower and the town at the sunset from the trocadéro - torre eiffel - fotografias e filmes do acervo\n",
      "https://media.gettyimages.com/id/1169175430/pt/foto/paris-cityscape-with-eiffel-tower-at-sunset-ile-de-france-france.jpg?s=612x612&w=gi&k=20&c=rrI0Hso29yzr2AJhn-7FJTpTtD-jcj1n8xNiqpF-2c8=\n",
      "paris cityscape with eiffel tower at sunset, ile-de-france, france - torre eiffel - fotografias e filmes do acervo\n",
      "https://media.gettyimages.com/id/1176850091/pt/foto/eiffel-tower-and-seine-river-at-sunrise-paris-france.jpg?s=612x612&w=gi&k=20&c=4yZIz0EnEVVMLVWteXB9CpDPn2UfwJcfMiieTbTZG6o=\n",
      "eiffel tower and seine river at sunrise, paris, france - torre eiffel - fotografias e filmes do acervo\n",
      "https://media.gettyimages.com/id/486545213/pt/foto/the-eiffel-tower-in-paris.jpg?s=612x612&w=gi&k=20&c=uf_jZe2wfHB6EJ4RlaHqBFsmz0T45w3mEyUi782pDyM=\n",
      "the eiffel tower in paris - torre eiffel - fotografias e filmes do acervo\n",
      "https://media.gettyimages.com/id/959690072/pt/vetorial/eiffel-tower-pixel-perfect-single-line-icon.jpg?s=612x612&w=gi&k=20&c=NmQK0TiGrkpy5jWrt6qPIONvcIm0NkJaULp39I0gYvw=\n",
      "ilustrações, clipart, desenhos animados e ícones de torre eiffel - pixel perfect icon de linha única - torre eiffel\n",
      "https://media.gettyimages.com/id/1176360891/pt/foto/cityscape-of-paris.jpg?s=612x612&w=gi&k=20&c=oOcCXY4vJQEn_APO9zsnV6wPEL-VlgLdJnWt0sTCK20=\n",
      "arquitectura da cidade de paris - torre eiffel - fotografias e filmes do acervo\n",
      "https://media.gettyimages.com/id/957000558/pt/foto/eiffel-tower-and-seine-river-in-the-morning-paris-france.jpg?s=612x612&w=gi&k=20&c=d4jVzWnVSHMU9hFifH2nUKpuzh-SnfdBeZ655i9xWG8=\n",
      "eiffel tower and seine river in the morning, paris, france - torre eiffel - fotografias e filmes do acervo\n",
      "https://media.gettyimages.com/id/1446964351/pt/foto/low-angle-view-of-eiffel-tower-against-clear-blue-sky-champ-de-mars-france.jpg?s=612x612&w=gi&k=20&c=c1YD-E-EDECwVJpgTyoKTGrviB31O3qeGIyVZPL4ggg=\n",
      "low angle view of eiffel tower against clear blue sky,champ de mars,france - torre eiffel - fotografias e filmes do acervo\n",
      "https://media.gettyimages.com/id/455588755/pt/vetorial/torre-eiffel-de-paris.jpg?s=612x612&w=gi&k=20&c=loWFJtPYiBgge6pjremlp2WsSpQQ4Q96pWfEDlKNg8Q=\n",
      "ilustrações, clipart, desenhos animados e ícones de torre eiffel em paris - torre eiffel\n",
      "https://media.gettyimages.com/id/2153347966/pt/foto/eiffel-tower-in-paris-france-on-a-sunny-day.jpg?s=612x612&w=gi&k=20&c=sESrgCS1eO0ypYuzTSIDqvd8ydtLvWdrNPiCfb5dTgs=\n",
      "eiffel tower in paris, france on a sunny day - torre eiffel - fotografias e filmes do acervo\n",
      "https://media.gettyimages.com/id/601762955/pt/foto/eiffel-tower-with-blue-sky-paris-france.jpg?s=612x612&w=gi&k=20&c=skLoynIik2W0Lih9tMhy8R8ayoZmkGHXvUedcLrFLzk=\n",
      "eiffel tower with blue sky, paris, france - torre eiffel - fotografias e filmes do acervo\n",
      "https://media.gettyimages.com/id/824655732/pt/foto/looking-up-at-the-eiffel-tower-through-paris-housing-paris-france.jpg?s=612x612&w=gi&k=20&c=MnTI7OZANm1zEey0aY5uj4TQ8ZC9oKeogDgcL2A44N0=\n",
      "looking up at the eiffel tower through paris housing, paris, france - torre eiffel - fotografias e filmes do acervo\n",
      "https://media.gettyimages.com/id/824655766/pt/foto/tourist-couple-looking-at-the-eiffel-tower-paris-france.jpg?s=612x612&w=gi&k=20&c=tca6gWvAutuTy5on06HnHL8uoNbs9lMx52weQBjrz34=\n",
      "tourist couple looking at the eiffel tower, paris, france - torre eiffel - fotografias e filmes do acervo\n",
      "https://media.gettyimages.com/id/1560098090/pt/foto/france-europe-paris-eiffel-tower.jpg?s=612x612&w=gi&k=20&c=CtbmGT2dODJ8lIanIFnkHIp81LXKujsSr5Feduv5f_A=\n",
      "france, europe, paris, eiffel tower - torre eiffel - fotografias e filmes do acervo\n",
      "https://media.gettyimages.com/id/1346881772/pt/vetorial/the-eiffel-tower-world-landmarks-line-icon-vector-stock-illustration.jpg?s=612x612&w=gi&k=20&c=-PveLdmxXAARuXUQnNKjhOOBwSs9TbZloyTHbCP5_uM=\n",
      "ilustrações, clipart, desenhos animados e ícones de a torre eiffel. marcos mundiais - ícone da linha. ilustração de estoque de vetores - torre eiffel\n",
      "https://media.gettyimages.com/id/1365737893/pt/foto/iconic-eiffel-tower-paris.jpg?s=612x612&w=gi&k=20&c=nZDZvj_9n0gz4ual1lh2bwzFJT0laDgGFpGuNPXvYvQ=\n",
      "iconic eiffel tower, paris - torre eiffel - fotografias e filmes do acervo\n",
      "https://media.gettyimages.com/id/1877256614/pt/foto/aerial-of-paris-city-with-seine-river-during-sunset-france.jpg?s=612x612&w=gi&k=20&c=sAmJDdVNjWsXFtSezaHgH1VHiUgyFQntgN6NtUYHxfE=\n",
      "aéreo da cidade de paris com rio sena durante o pôr do sol frança - torre eiffel - fotografias e filmes do acervo\n",
      "https://media.gettyimages.com/id/521062958/pt/foto/eiffel-tower-from-trocadero-in-paris-france.jpg?s=612x612&w=gi&k=20&c=x7sPTL5r8PWHM6c4IHyqhAghJt-e0PO8GVSjBhum3BY=\n",
      "eiffel tower from trocadero in paris, france - torre eiffel - fotografias e filmes do acervo\n",
      "https://media.gettyimages.com/id/1153683330/pt/foto/eiffel-tower-in-paris-disappearing-in-the-fog-french-culture.jpg?s=612x612&w=gi&k=20&c=NLF3FI5VuBS25kICBUswdYwohZF1SO2SmF6ATtUL8BU=\n",
      "eiffel tower in paris disappearing in the fog . french culture . - torre eiffel - fotografias e filmes do acervo\n",
      "https://media.gettyimages.com/id/1140750906/pt/foto/tourist-exploring-eiffel-tower-paris-france.jpg?s=612x612&w=gi&k=20&c=9hcOlnG1q1eeeQEWKrXDr2JLVyOpESKgajsPcYvTrvQ=\n",
      "turista que explora a torre eiffel paris france - torre eiffel - fotografias e filmes do acervo\n",
      "https://media.gettyimages.com/id/601763009/pt/foto/dawn-over-eiffel-tower-and-seine-paris-france.jpg?s=612x612&w=gi&k=20&c=0ZZsFY1OfaBrHY_Tl8FppErLZ3tY-ZKhFpqpWZ2RSLc=\n",
      "dawn over eiffel tower and seine, paris, france - torre eiffel - fotografias e filmes do acervo\n",
      "https://media.gettyimages.com/id/173192955/pt/foto/torre-eiffel.jpg?s=612x612&w=gi&k=20&c=8sN10a3cEABzJhz8bvAeHcCMi0O3VfN_1abZheTxNE8=\n",
      "torre eiffel - torre eiffel - fotografias e filmes do acervo\n",
      "https://media.gettyimages.com/id/584665373/pt/foto/sunset-over-eiffel-tower-in-paris.jpg?s=612x612&w=gi&k=20&c=Bti-dDaliWEmxfUq_u1BO6LiszwLqmOqCkBJbBji3nk=\n",
      "sunset over eiffel tower in paris - torre eiffel - fotografias e filmes do acervo\n",
      "https://media.gettyimages.com/id/1197657000/pt/vetorial/incredible-detailed-eiffel-towers.jpg?s=612x612&w=gi&k=20&c=mkCIUu_R-2-KQJdqPHziTiOx4eugunFxZUqY3jPc46o=\n",
      "ilustrações, clipart, desenhos animados e ícones de incríveis torres eiffel detalhadas - torre eiffel\n",
      "https://media.gettyimages.com/id/570124355/pt/foto/the-eiffel-tower-at-early-morning.jpg?s=612x612&w=gi&k=20&c=be-JmtBzJvJvMG-lUQ4RorKtmAEf7-HcTkwdl2u-OhE=\n",
      "the eiffel tower at early morning - torre eiffel - fotografias e filmes do acervo\n",
      "https://media.gettyimages.com/id/97647053/pt/foto/angulado-eiffel-preto.jpg?s=612x612&w=gi&k=20&c=0nnLJGdx6Dj-3mQL0bW-_9Y6rvT0E-h8Ijj0vb4UOu4=\n",
      "ângulo eiffel preto - torre eiffel - fotografias e filmes do acervo\n",
      "https://media.gettyimages.com/id/455607391/pt/foto/eiffel-tower-paris.jpg?s=612x612&w=gi&k=20&c=Sefsz0WLi_Y0pIvk-UatBk4IUAta7z1Tc6jKd6uPO_o=\n",
      "eiffel tower, paris - torre eiffel - fotografias e filmes do acervo\n",
      "https://media.gettyimages.com/id/950372964/pt/foto/beginning-of-the-day-in-paris-and-the-eiffel-tower.jpg?s=612x612&w=gi&k=20&c=Vw8h0ntnEKxrAW8B4FI7Ob3PFCHwAnCAHITC-xe32ms=\n",
      "beginning of the day in paris and the eiffel tower - torre eiffel - fotografias e filmes do acervo\n",
      "https://media.gettyimages.com/id/1329214688/pt/foto/autumn-in-paris.jpg?s=612x612&w=gi&k=20&c=m3kDZxItNp5TTq7jMcORYrHFOvWmnJhWJHQIGevZtKQ=\n",
      "outono em paris - torre eiffel - fotografias e filmes do acervo\n",
      "https://media.gettyimages.com/id/76185348/pt/vetorial/eiffel-tower-paris-france.jpg?s=612x612&w=gi&k=20&c=T5OXQOuw_L6fmZWnDdl6Gev5xWJXC8qZ3w1Z7sCOY5c=\n",
      "ilustrações, clipart, desenhos animados e ícones de eiffel tower, paris, france - torre eiffel\n",
      "https://media.gettyimages.com/id/1057208770/pt/foto/france-paris-eiffel-tower-worms-eye-view.jpg?s=612x612&w=gi&k=20&c=O-2JVsAd7Qgcan7Yqa8eyLmp22eh_TBmEfG6QhT0SM4=\n",
      "france, paris, eiffel tower, worm's eye view - torre eiffel - fotografias e filmes do acervo\n",
      "https://media.gettyimages.com/id/595484701/pt/foto/the-eiffel-tower-in-the-early-morning.jpg?s=612x612&w=gi&k=20&c=iM776c9h6ivERvvUVTCvucgCTW4IM6RJaviycrbSQAY=\n",
      "the eiffel tower in the early morning - torre eiffel - fotografias e filmes do acervo\n",
      "https://media.gettyimages.com/id/452477187/pt/vetorial/famoso-refer%C3%AAncias.jpg?s=612x612&w=gi&k=20&c=H6bOheAnuR4A1jSj5OfzXdgJTqe-Nr_99lV_qjq7GTA=\n",
      "ilustrações, clipart, desenhos animados e ícones de marcos famosos - torre eiffel\n",
      "https://media.gettyimages.com/id/1177610001/pt/foto/road-of-paris-with-eiffel-tower-at-morning.jpg?s=612x612&w=gi&k=20&c=uvXZ0v_-e9X48EuGGjX5bNnxJLIyHEHeIjJLfWxemAA=\n",
      "road of paris with eiffel tower at morning - torre eiffel - fotografias e filmes do acervo\n",
      "https://media.gettyimages.com/id/1319642507/pt/foto/eiffel-tower-at-sunset.jpg?s=612x612&w=gi&k=20&c=tyAKCIJeV6OBhvSrvHc6BgP3RsBJ7cY3ARUVcvk30w4=\n",
      "torre eiffel ao pôr do sol - torre eiffel - fotografias e filmes do acervo\n",
      "https://media.gettyimages.com/id/959118956/pt/foto/woman-having-lunch-in-hotel-in-paris.jpg?s=612x612&w=gi&k=20&c=svtHrNqO92hJahaobQnkXvfxJSMYbbNO8WGCG9hSNPs=\n",
      "mulher almoçando no hotel em paris - torre eiffel - fotografias e filmes do acervo\n",
      "https://media.gettyimages.com/id/929982144/pt/foto/woman-walking-to-the-eiffel-tower-with-snow.jpg?s=612x612&w=gi&k=20&c=FAPn5Y6Nn-F6KD7qK98zTV8Inf80wwlYF-zZzX5V0qM=\n",
      "mulher andando até a torre eiffel com neve - torre eiffel - fotografias e filmes do acervo\n",
      "https://media.gettyimages.com/id/2165022200/pt/foto/the-olympic-rings-on-the-eiffel-tower-at-dusk.jpg?s=612x612&w=gi&k=20&c=wx2GbqJnxGOuQFTzGYIjJnas30tSmQMWXVCwzaFzRuU=\n",
      "The Olympic rings on the Eiffel Tower at dusk.\n"
     ]
    }
   ],
   "source": [
    "from bs4 import BeautifulSoup as BSHTML\n",
    "import urllib\n",
    "\n",
    "page = urllib.request.urlopen('https://www.gettyimages.com.br/search/2/image?page=0&phrase=torre+eiffel')\n",
    "soup = BSHTML(page)\n",
    "images = soup.findAll('img')\n",
    "\n",
    "for image in images:\n",
    "    # Print image source\n",
    "    print(image['src'])\n",
    "    # Print alternate text\n",
    "    print(image['alt'])"
   ]
  },
  {
   "cell_type": "code",
   "execution_count": 6,
   "id": "56e9c8b1-81bb-465c-940b-8ba0a3ed2b35",
   "metadata": {},
   "outputs": [],
   "source": [
    "import requests"
   ]
  },
  {
   "cell_type": "code",
   "execution_count": 2,
   "id": "057d019e-f21d-42a6-83ab-f4cec6d9e42a",
   "metadata": {},
   "outputs": [
    {
     "data": {
      "text/plain": [
       "62"
      ]
     },
     "execution_count": 2,
     "metadata": {},
     "output_type": "execute_result"
    }
   ],
   "source": [
    "len(images)"
   ]
  },
  {
   "cell_type": "code",
   "execution_count": 3,
   "id": "f10a4f40-0766-4ae7-8331-7ff35f979f2a",
   "metadata": {},
   "outputs": [],
   "source": [
    "full_url = 'https://media.gettyimages.com/id/1449138519/pt/foto/eiffel-tower-in-winter-paris-france.jpg?s=612x612&w=gi&k=20&c=X2TF14rdSp6Fld1pkwVLQ2uSAgowpSKhNbKCbc9u2ZE='"
   ]
  },
  {
   "cell_type": "code",
   "execution_count": 12,
   "id": "5698d9b6-ba3b-4758-82f2-aa85a402f556",
   "metadata": {},
   "outputs": [],
   "source": [
    "r = requests.get(full_url, stream=True) #Get request on full_urlif r.status_code == 200:                     \n",
    "# with open(\"images/book1.jpg\", 'wb') as f: \n",
    "#     r.raw.decode_content = True\n",
    "#     shutil.copyfileobj(r.raw, f)\n",
    "\n",
    "f = open(\"imgge1.jpg\", \"wb\")\n",
    "f.write(r.content)\n",
    "f.close()"
   ]
  },
  {
   "cell_type": "code",
   "execution_count": 19,
   "id": "2a9efaf5-63ba-4ee0-b101-fda518eb65bf",
   "metadata": {},
   "outputs": [],
   "source": [
    "import os\n",
    "import time"
   ]
  },
  {
   "cell_type": "code",
   "execution_count": 14,
   "id": "2d42aa91-7f57-4d10-97c1-d482780c10bc",
   "metadata": {},
   "outputs": [],
   "source": [
    "os.mkdir('eiffel')\n",
    "os.mkdir('triomphe')"
   ]
  },
  {
   "cell_type": "code",
   "execution_count": 24,
   "id": "04cc478f-5f2e-4568-9821-eaa4160596be",
   "metadata": {},
   "outputs": [],
   "source": [
    "aux = 0\n",
    "for i in range(1,10):\n",
    "    page = urllib.request.urlopen('https://www.gettyimages.com.br/search/2/image?page='+str(i)+'&phrase=torre+eiffel')\n",
    "    soup = BSHTML(page)\n",
    "    images = soup.findAll('img')\n",
    "    \n",
    "    for image in images:\n",
    "        url = image['src']\n",
    "        if '.jpg' in url:\n",
    "            r = requests.get(url, stream=True)\n",
    "            f = open('data/train/eiffel/'+str(aux)+'.jpg','wb')\n",
    "            f.write(r.content)\n",
    "            f.close()\n",
    "            aux = aux+1\n",
    "            time.sleep(1)\n",
    "\n",
    "\n",
    "        "
   ]
  },
  {
   "cell_type": "code",
   "execution_count": 25,
   "id": "d7857649-2c5d-413a-a5c1-70a043af33b7",
   "metadata": {},
   "outputs": [],
   "source": [
    "aux = 0\n",
    "for i in range(1,11):\n",
    "    page = urllib.request.urlopen('https://www.gettyimages.com.br/search/2/image?page='+str(i)+'&phrase=arc+de+triomphe')\n",
    "    soup = BSHTML(page)\n",
    "    images = soup.findAll('img')\n",
    "    \n",
    "    for image in images:\n",
    "        url = image['src']\n",
    "        if '.jpg' in url:\n",
    "            r = requests.get(url, stream=True)\n",
    "            f = open('data/train/triomphe/'+str(aux)+'.jpg','wb')\n",
    "            f.write(r.content)\n",
    "            f.close()\n",
    "            aux = aux+1\n",
    "            time.sleep(1)"
   ]
  },
  {
   "cell_type": "code",
   "execution_count": null,
   "id": "a2ca9831-eb31-4219-aa67-4380626e8712",
   "metadata": {},
   "outputs": [],
   "source": []
  }
 ],
 "metadata": {
  "kernelspec": {
   "display_name": "Python 3 (ipykernel)",
   "language": "python",
   "name": "python3"
  },
  "language_info": {
   "codemirror_mode": {
    "name": "ipython",
    "version": 3
   },
   "file_extension": ".py",
   "mimetype": "text/x-python",
   "name": "python",
   "nbconvert_exporter": "python",
   "pygments_lexer": "ipython3",
   "version": "3.10.12"
  }
 },
 "nbformat": 4,
 "nbformat_minor": 5
}
